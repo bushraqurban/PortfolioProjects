{
 "cells": [
  {
   "cell_type": "markdown",
   "id": "d78ecfb9",
   "metadata": {},
   "source": [
    "# Automatic File Sorter in File Explorer"
   ]
  },
  {
   "cell_type": "code",
   "execution_count": 1,
   "id": "f1a7a261",
   "metadata": {},
   "outputs": [],
   "source": [
    "import os, shutil"
   ]
  },
  {
   "cell_type": "code",
   "execution_count": 2,
   "id": "78214b49",
   "metadata": {},
   "outputs": [],
   "source": [
    "path = r'C:/Users/Admin/Desktop/DifferentFilesFolder/'"
   ]
  },
  {
   "cell_type": "code",
   "execution_count": 3,
   "id": "8874406d",
   "metadata": {},
   "outputs": [],
   "source": [
    "file_path = os.listdir(path)"
   ]
  },
  {
   "cell_type": "code",
   "execution_count": 4,
   "id": "b5b2498a",
   "metadata": {},
   "outputs": [],
   "source": [
    "folder_names = ['excel files', 'image files', 'text files']\n",
    "\n",
    "# check if new folder names already exist\n",
    "for name in range(len(folder_names)):\n",
    "    if not os.path.exists(path + folder_names[name]):\n",
    "        os.makedirs((path + folder_names[name]))\n",
    "\n",
    "# Check if the files already exit in the specified folder when not, move\n",
    "for file in file_path:\n",
    "    if '.png' in file and not os.path.exists(path + 'image files/' + file):\n",
    "        shutil.move(path + file, path +'image files/' + file)\n",
    "    elif '.xlsx' in file and not os.path.exists(path + 'excel files/' + file):\n",
    "        shutil.move(path + file, path +'excel files/' + file)\n",
    "    elif '.txt' in file and not os.path.exists(path + 'text files/' + file):\n",
    "        shutil.move(path + file, path +'text files/' + file)"
   ]
  }
 ],
 "metadata": {
  "kernelspec": {
   "display_name": "Python 3 (ipykernel)",
   "language": "python",
   "name": "python3"
  },
  "language_info": {
   "codemirror_mode": {
    "name": "ipython",
    "version": 3
   },
   "file_extension": ".py",
   "mimetype": "text/x-python",
   "name": "python",
   "nbconvert_exporter": "python",
   "pygments_lexer": "ipython3",
   "version": "3.11.5"
  }
 },
 "nbformat": 4,
 "nbformat_minor": 5
}
